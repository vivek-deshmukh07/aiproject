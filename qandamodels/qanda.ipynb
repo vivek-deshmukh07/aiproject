{
 "cells": [
  {
   "cell_type": "code",
   "execution_count": 3,
   "metadata": {},
   "outputs": [
    {
     "name": "stderr",
     "output_type": "stream",
     "text": [
      "/Library/Frameworks/Python.framework/Versions/3.12/lib/python3.12/site-packages/huggingface_hub/file_download.py:797: FutureWarning: `resume_download` is deprecated and will be removed in version 1.0.0. Downloads always resume when possible. If you want to force a new download, use `force_download=True`.\n",
      "  warnings.warn(\n"
     ]
    },
    {
     "data": {
      "application/vnd.jupyter.widget-view+json": {
       "model_id": "b105d9f78a794e31b9109c2e8e66778d",
       "version_major": 2,
       "version_minor": 0
      },
      "text/plain": [
       "config.json:   0%|          | 0.00/451 [00:00<?, ?B/s]"
      ]
     },
     "metadata": {},
     "output_type": "display_data"
    },
    {
     "data": {
      "application/vnd.jupyter.widget-view+json": {
       "model_id": "8fd5cd68f9f647e097759c803904b454",
       "version_major": 2,
       "version_minor": 0
      },
      "text/plain": [
       "model.safetensors:   0%|          | 0.00/265M [00:00<?, ?B/s]"
      ]
     },
     "metadata": {},
     "output_type": "display_data"
    },
    {
     "data": {
      "application/vnd.jupyter.widget-view+json": {
       "model_id": "4bf2967260554e47ae36473ab5f22cd9",
       "version_major": 2,
       "version_minor": 0
      },
      "text/plain": [
       "tokenizer_config.json:   0%|          | 0.00/48.0 [00:00<?, ?B/s]"
      ]
     },
     "metadata": {},
     "output_type": "display_data"
    },
    {
     "data": {
      "application/vnd.jupyter.widget-view+json": {
       "model_id": "29d0cefb1fbb4b7ca54d2a5b9e0bdf13",
       "version_major": 2,
       "version_minor": 0
      },
      "text/plain": [
       "vocab.txt:   0%|          | 0.00/232k [00:00<?, ?B/s]"
      ]
     },
     "metadata": {},
     "output_type": "display_data"
    },
    {
     "data": {
      "application/vnd.jupyter.widget-view+json": {
       "model_id": "e0a5672a72274154be83c3251ea698a3",
       "version_major": 2,
       "version_minor": 0
      },
      "text/plain": [
       "tokenizer.json:   0%|          | 0.00/466k [00:00<?, ?B/s]"
      ]
     },
     "metadata": {},
     "output_type": "display_data"
    },
    {
     "data": {
      "application/vnd.jupyter.widget-view+json": {
       "model_id": "6d722bc4f74a420ea809197d7204e1ce",
       "version_major": 2,
       "version_minor": 0
      },
      "text/plain": [
       "config.json:   0%|          | 0.00/571 [00:00<?, ?B/s]"
      ]
     },
     "metadata": {},
     "output_type": "display_data"
    },
    {
     "data": {
      "application/vnd.jupyter.widget-view+json": {
       "model_id": "e78f3a6950434039a5fb590337238948",
       "version_major": 2,
       "version_minor": 0
      },
      "text/plain": [
       "model.safetensors:   0%|          | 0.00/496M [00:00<?, ?B/s]"
      ]
     },
     "metadata": {},
     "output_type": "display_data"
    },
    {
     "data": {
      "application/vnd.jupyter.widget-view+json": {
       "model_id": "65fc699b130c49378acef57bf9ababde",
       "version_major": 2,
       "version_minor": 0
      },
      "text/plain": [
       "tokenizer_config.json:   0%|          | 0.00/79.0 [00:00<?, ?B/s]"
      ]
     },
     "metadata": {},
     "output_type": "display_data"
    },
    {
     "data": {
      "application/vnd.jupyter.widget-view+json": {
       "model_id": "c478dba4e2c643c6a45e35c361bc5423",
       "version_major": 2,
       "version_minor": 0
      },
      "text/plain": [
       "vocab.json:   0%|          | 0.00/899k [00:00<?, ?B/s]"
      ]
     },
     "metadata": {},
     "output_type": "display_data"
    },
    {
     "data": {
      "application/vnd.jupyter.widget-view+json": {
       "model_id": "7e8d2fb2667e4b9391f2a2e100ceab17",
       "version_major": 2,
       "version_minor": 0
      },
      "text/plain": [
       "merges.txt:   0%|          | 0.00/456k [00:00<?, ?B/s]"
      ]
     },
     "metadata": {},
     "output_type": "display_data"
    },
    {
     "data": {
      "application/vnd.jupyter.widget-view+json": {
       "model_id": "940ecfc466084048930e1b907e2490a8",
       "version_major": 2,
       "version_minor": 0
      },
      "text/plain": [
       "special_tokens_map.json:   0%|          | 0.00/772 [00:00<?, ?B/s]"
      ]
     },
     "metadata": {},
     "output_type": "display_data"
    },
    {
     "name": "stdout",
     "output_type": "stream",
     "text": [
      "✅ Model 1 Accuracy (DistilBERT): 83.00%\n",
      "✅ Model 2 Accuracy (RoBERTa): 86.00%\n"
     ]
    }
   ],
   "source": [
    "import json\n",
    "import pandas as pd\n",
    "from transformers import pipeline\n",
    "from sklearn.metrics import accuracy_score\n",
    "\n",
    "# Load your QA dataset\n",
    "qa_data_path = \"/Users/vivekmandal/Desktop/Ramu/aiproject/datacleaning/qa_data.json\"\n",
    "with open(qa_data_path, \"r\") as f:\n",
    "    qa_dataset = json.load(f)\n",
    "\n",
    "# Use first 100 samples for faster comparison (adjust as needed)\n",
    "qa_dataset = qa_dataset[:100]\n",
    "\n",
    "# Load two different QA models\n",
    "model_1 = pipeline(\"question-answering\", model=\"distilbert-base-uncased-distilled-squad\")\n",
    "model_2 = pipeline(\"question-answering\", model=\"deepset/roberta-base-squad2\")\n",
    "\n",
    "# Collect results\n",
    "results = []\n",
    "for sample in qa_dataset:\n",
    "    question = sample[\"question\"]\n",
    "    context = sample[\"context\"]\n",
    "    true_answer = sample[\"answer\"].strip().lower()\n",
    "\n",
    "    pred_1 = model_1(question=question, context=context)[\"answer\"].strip().lower()\n",
    "    pred_2 = model_2(question=question, context=context)[\"answer\"].strip().lower()\n",
    "\n",
    "    results.append({\n",
    "        \"question\": question,\n",
    "        \"true_answer\": true_answer,\n",
    "        \"model_1_answer\": pred_1,\n",
    "        \"model_2_answer\": pred_2,\n",
    "        \"model_1_correct\": pred_1 == true_answer,\n",
    "        \"model_2_correct\": pred_2 == true_answer\n",
    "    })\n",
    "\n",
    "# Convert to DataFrame\n",
    "df_results = pd.DataFrame(results)\n",
    "\n",
    "# Compute Accuracy\n",
    "accuracy_1 = df_results[\"model_1_correct\"].mean()\n",
    "accuracy_2 = df_results[\"model_2_correct\"].mean()\n",
    "\n",
    "print(f\"✅ Model 1 Accuracy (DistilBERT): {accuracy_1:.2%}\")\n",
    "print(f\"✅ Model 2 Accuracy (RoBERTa): {accuracy_2:.2%}\")\n",
    "\n",
    "# Optionally save to CSV\n",
    "df_results.to_csv(\"qa_model_comparison_results.csv\", index=False)\n"
   ]
  },
  {
   "cell_type": "code",
   "execution_count": null,
   "metadata": {},
   "outputs": [],
   "source": []
  }
 ],
 "metadata": {
  "kernelspec": {
   "display_name": "Python 3",
   "language": "python",
   "name": "python3"
  },
  "language_info": {
   "codemirror_mode": {
    "name": "ipython",
    "version": 3
   },
   "file_extension": ".py",
   "mimetype": "text/x-python",
   "name": "python",
   "nbconvert_exporter": "python",
   "pygments_lexer": "ipython3",
   "version": "3.12.1"
  }
 },
 "nbformat": 4,
 "nbformat_minor": 2
}
